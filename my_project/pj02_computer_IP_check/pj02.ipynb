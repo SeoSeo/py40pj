{
 "cells": [
  {
   "attachments": {},
   "cell_type": "markdown",
   "metadata": {},
   "source": [
    "# Project 2 - 컴퓨터의 외부 및 내부 IP 확인"
   ]
  },
  {
   "attachments": {},
   "cell_type": "markdown",
   "metadata": {},
   "source": [
    "## 프로젝트 개요 & 설명\n",
    "교재 p.85 ~\n",
    "<br>\n",
    "\n",
    "- 현재 사용하는 컴퓨터의 내부 IP확인\n",
    "- 외부 IP 확인\n",
    "- 내부, 외부 IP 한번에 확인하는 코드 만들기\n",
    "- 테스트"
   ]
  },
  {
   "attachments": {},
   "cell_type": "markdown",
   "metadata": {},
   "source": [
    "### 참조 / 개념\n",
    "\n",
    "#### IP란?\n",
    "IP(Internet Protocol)는 인터넷에서 사용되는 프로토콜을 의미한다. 프로토콜이란 프로토콜은 컴퓨터들 간의 원활한 통신을 위해 지키기로 약속한 규약rule으로서 프로토콜에는 신호 처리법, 오류처리, 암호, 인증, 주소 등을 포함한다. 이 프로토콜이 동일해야 서로 통신(정보를 주고 받을 때)을 할 때 문제가 없으므로 전세계에서 쓰이는 프로토콜을 통합시킨 국제 표준 통신규약이 존재하며 인터넷은 TCP/IP 기반하에 동작한다."
   ]
  },
  {
   "attachments": {},
   "cell_type": "markdown",
   "metadata": {},
   "source": [
    "##### 교재에서 말하는 내부 IP와 외부 IP\n",
    "\n",
    "IP는 주소이고 IPv4 혹은 IPv6 등으로 표현되며 숫자로 된 고유의 접속주소인 셈이다. 내부와 외부의 차이점이라면 외부는 \"서울 중구 세종대로 14 그랜드센트럴 1층 102호 가게상호명\"이라는 전체 주소일 것이다. 정확한 핀포인트까지의 주소이고, 내부의 경우 이미 \"서울 중구 세종대로 14\"안의 내부에서만 도는 주소이고 이미 \"서울 중구 세종대로 14\"안이기 때문에, 이를 제외한 \"그랜드센트럴 1층 102호\"가 내부 IP가 될 수 있을 것이다.\n",
    "\n",
    "일반적으로 인터넷 망이 설치된 곳에서는 공유기가 있어서 이 공유기가 내부 IP주소를 할당해서 각자 쓸 수 있게 해주며 이 인터넷 망은 한국의 경우 KT, SKT같은 인터넷서비스 회사들이 인터넷 망의 공급자가 되어 외부 주소를 할당해준다.\n"
   ]
  },
  {
   "attachments": {},
   "cell_type": "markdown",
   "metadata": {},
   "source": [
    "### 참조 / 기능 - import socket\n",
    "\n",
    "**`import socket` 이라는 내뷰 모듈을 이용.**\n",
    "<br>\n",
    "\\+ socket 은 파이썬 기본 패키지에 포함된 내장 모듈<br>\n",
    "\n",
    "- `socket.gethostname()` : 말그대로 현재 호스트 장치의 이름을 반환한다.\n",
    "- `socket.gethostbyname(변수명)` : 위에 socket.gethostname()를 변수로 넣으면 해당 호스트의 이름으로서 호스트의 주소를 반환한다. 로컬PC의 IP주소인 셈이다.\n",
    "- `socket.socket()` : 지정된 주소 패밀리, 소켓 유형, 및 프로토콜 번호를 사용하여 새로운 소켓을 만들어 반환한다. + 새로 만들어진 소켓은 상속 불가능\n",
    "    - ref : https://docs.python.org/dev/library/socket.html#socket.socket\n",
    "    - 예시 : \n",
    "        `sock = socket.socket(socket.AF_INET,socket.SOCK_STREAM | socket.SOCK_NONBLOCK)`\n",
    "- `sock.connect((url,port))` : 지정한 HOST의 URL와 PORT를 사용하여 서버에 접속합니다.\n",
    "    - 예시 : \n",
    "        `sock.connect((HOST, PORT))` -> 위에 생성한 소켓을 예로 들어서 한 것.\n",
    "- `sock.getsockname()` : 연결된 소켓 자신의 주소를 반환합니다. 이것은 예를 들어 IPv4/v6 소켓의 포트 번호를 찾는 데 유용하다.\n",
    "- `socket.AF_INET` : socket을 설정할 때 특성 값 중 하나인데, AddressFamily 타입으로서 해당 소켓은 IP version 4 용으로 사용하겠다는 의미이다.\n",
    "- `socket.SOCK_STREAM` : socket을 설정할 때 특성 값 중 하나인데, SocketKind 타입으로서 해당 소켓에 TCP 패킷을 받겠다는 의미이다.\n",
    "\n",
    "<p>ref : https://docs.python.org/ko/3/library/socket.html</p>"
   ]
  },
  {
   "attachments": {},
   "cell_type": "markdown",
   "metadata": {},
   "source": [
    "#### socket이란?\n",
    "소켓은 간단히 요약하면 간단히 설명하면 네트워크에서 패킷packet을 주고 받을 때 각 end 단에서 application으로 넘어가기 전에 받아는 버퍼와 같은 것이다. 자세하게 말하자면 소켓은 네트워크 상에서 돌아가는 두 개의 프로그램 간 양방향 통신의 하나의 엔트 포인트로, 소켓은 포트Port 번호에 바인딩Binding되어 TCP레이어에서 데이터가 전달되야 하는 어플리케이션을 식별할 수 있게 한다.\n",
    "    - 소켓이라는 단일한 인터페이스로 묶어서 사용\n",
    "    - 네트워크를 초기화하여 다양한 통신 수단을 사용\n",
    "    - 운영체제의 파일시스템과 연동하여 구성\n",
    "    - 상위에서 보면 파일처럼 다루어지게 된다\n",
    "    - 소켓에서는 socket()과 bind()라는 시스템콜 함수를 이용\n",
    "    - 구성 : 프로토콜 식별자, 로컬 인터넷 주소, 로컬 포트 번호, 원격 인터넷 주소, 원격 포트번호로 구성\n",
    "\n",
    "참고로, 서버의 경우 서버에 들어오기 전에 Load balancer가 소켓으로 동작한다고 볼 수 있다. 그리고 클라이언트 측에서는 웹브라우저에 들어가기전에 버퍼역할을 하는 것이 소켓이라고 할 수 있다.\n",
    "\n",
    "\\+ **패킷Packet** : 네트워크를 통해 전송하기 쉽도록 자른 데이터의 전송 단위. 본래는 소포를 뜻하는 용어로, 소화물을 뜻하는 패키지(package)와 덩어리를 뜻하는 버킷(bucket)의 합성어이다. 패킷은 데이터 전송에서 송신측과 수신측에 의하여 하나의 단위로 취급되어 전송되는 집합체로, 분할된 각각의 패킷에는 별도의 번호가 붙여지고 목적지의 인터넷 주소가 기록되며, 에러 체크 데이터도 포함된다."
   ]
  },
  {
   "cell_type": "code",
   "execution_count": null,
   "metadata": {},
   "outputs": [],
   "source": [
    "## 내 노트북의 IP주소\n",
    "\n",
    "import socket\n",
    "\n",
    "host = socket.gethostname()\n",
    "print(host) # 내가 노트북에 설정한 이름\n",
    "myIP = socket.gethostbyname(host) # 내가 wifi에서 확인한 ipv4주소와 같음.\n",
    "print(myIP)"
   ]
  },
  {
   "cell_type": "code",
   "execution_count": 13,
   "metadata": {},
   "outputs": [
    {
     "name": "stdout",
     "output_type": "stream",
     "text": [
      "('172.30.1.18', 54984)\n",
      "172.30.1.18\n"
     ]
    }
   ],
   "source": [
    "## 외부 도메인주소로 외부 IP출력\n",
    "\n",
    "import socket\n",
    "\n",
    "# 소켓 객체를 생성합니다.\n",
    "# 주소 체계(address family)로 IPv4, 소켓 타입으로 TCP 사용합니다.\n",
    "ipAdd = socket.socket(\n",
    "    socket.AF_INET,\n",
    "    socket.SOCK_STREAM\n",
    ")\n",
    "# print(ipAdd) # <socket.socket fd=428, family=2, type=1, proto=0>\n",
    "ipAdd.connect((\"www.google.com.au\", 443)) # 구글의 호주 주소, https의 기본 접수 port 번호\n",
    "print(ipAdd.getsockname()) # ('172.30.1.18', 54960)\n",
    "print(ipAdd.getsockname()[0]) # 172.30.1.18 -> 구글 호주의 IP주소."
   ]
  },
  {
   "attachments": {},
   "cell_type": "markdown",
   "metadata": {},
   "source": [
    "### 참조 / 기능 - import requests\n",
    "\n",
    "**`import requests` 이라는 내뷰 모듈을 이용.**\n",
    "<br>\n",
    "\\+ Requests 는 파이썬에서 HTTP를 사용하기 위해 쓰여지는 라이브러리로, 기본 내장 라이브러리는 아니지만 거의 표준처럼 널리 쓰이고 있다.<br>\n",
    "어떤 방식(method)의 HTTP 요청을 하느냐에 따라서 해당하는 이름의 함수를 사용하면 된다.<br>\n",
    "\n",
    "- `requests.get()` : HTTP 메서드의 GET 방식\n",
    "- `requests.post()` : HTTP 메서드의 POST 방식\n",
    "- `requests.put()` : HTTP 메서드의 PUT 방식\n",
    "- `requests.delete()` : HTTP 메서드의 DELETE 방식\n",
    "\n",
    "온라인 서비스를 HTTP로 호출하면 상태를 응답받게 된다. 일반적으로 이 상태를 보고 요청이 잘 처리되었는지, 문제가 있는지 알 수가 있다. 상태 코드는 Response 객체의 status_code 속성을 통해 간단하게 얻을 수 있다.<br>\n",
    "\n",
    "\n",
    "<p>HTTP status code는 위키피디아 및 Mozilla의 웹 문서에서 확인할 수 있는데, Requests에서 지원하는 status code와 일부 차이가 있다.<br>\n",
    "\n",
    "- [https://en.wikipedia.org/wiki/List_of_HTTP_status_codes](https://en.wikipedia.org/wiki/List_of_HTTP_status_codes)\n",
    "- [https://developer.mozilla.org/ko/docs/Web/HTTP/Status#:~:text=HTTP%20%EC%9D%91%EB%8B%B5%20%EC%83%81%ED%83%9C%20%EC%BD%94%EB%93%9C%EB%8A%94,2616%EC%97%90%20%EC%A0%95%EC%9D%98%EB%90%98%EC%96%B4%20%EC%9E%88%EC%8A%B5%EB%8B%88%EB%8B%A4.](https://developer.mozilla.org/ko/docs/Web/HTTP/Status#:~:text=HTTP%20%EC%9D%91%EB%8B%B5%20%EC%83%81%ED%83%9C%20%EC%BD%94%EB%93%9C%EB%8A%94,2616%EC%97%90%20%EC%A0%95%EC%9D%98%EB%90%98%EC%96%B4%20%EC%9E%88%EC%8A%B5%EB%8B%88%EB%8B%A4.)\n",
    "</p>\n",
    "<p>그리고 Requests에서 지원하는 status code의 종류는\n",
    "\n",
    "[https://github.com/psf/requests/blob/c45a4dfe6bfc6017d4ea7e9f051d6cc30972b310/requests/status_codes.py](https://github.com/psf/requests/blob/c45a4dfe6bfc6017d4ea7e9f051d6cc30972b310/requests/status_codes.py)\n",
    "에서 확인 가능.\n",
    "</p>\n",
    "\n",
    "\n",
    "ref : [https://docs.python.org/ko/3/library/urllib.request.html](https://docs.python.org/ko/3/library/urllib.request.html)\n",
    "\n",
    "ref : [https://docs.python-requests.org/en/master/user/quickstart/](https://docs.python-requests.org/en/master/user/quickstart/)"
   ]
  },
  {
   "cell_type": "code",
   "execution_count": null,
   "metadata": {},
   "outputs": [],
   "source": [
    "import requests\n",
    "\n",
    "# requests 의 객체 생성\n",
    "response = requests.get(\"https://google.com\")\n",
    "\n",
    "# response의 request 객체에 접근 가능\n",
    "response.request\n",
    "\n",
    "# 응답 코드\n",
    "response.status_code\n",
    "\n",
    "# 200 (OK 코드)이 아닌 경우 에러 raise\n",
    "response.raise_for_status()\n",
    "\n",
    "# json response일 경우 딕셔너리 타입으로 바로 변환\n",
    "response.json()\n",
    "\n",
    "# content 속성을 통해 바이너리 타입으로 데이터를 받을 수 있다.\n",
    "response.content\n",
    "\n",
    "# text 속성을 통해 UTF-8로 인코딩된 문자열을 받을 수 있다.\n",
    "response.text\n",
    "\n",
    "# encoding 정보 확인\n",
    "response.encoding\n",
    "\n",
    "# ref : https://light-tree.tistory.com/6\n",
    "# ref : https://www.daleseo.com/python-requests/\n"
   ]
  },
  {
   "attachments": {},
   "cell_type": "markdown",
   "metadata": {},
   "source": [
    "### 참조 / 기능 - import re\n",
    "\n",
    "**`import re` 이라는 내뷰 모듈을 이용.**\n",
    "<br>\n",
    "re는 regex, 즉 regular expression 이라는 정규 표현식의 약어이며, 파이썬은 정규 표현식을 지원하기 위해 re 모듈을 제공한다.\n",
    "\n",
    "- `re.search(값)`\t: 문자열 전체를 검색하여 정규식과 매치되는지 조사한다.\n",
    "\n",
    "\n",
    "ref : [https://docs.python.org/ko/3/library/re.html](https://docs.python.org/ko/3/library/re.html)\n",
    "ref : [https://wikidocs.net/4308](https://wikidocs.net/4308)"
   ]
  },
  {
   "cell_type": "code",
   "execution_count": 35,
   "metadata": {},
   "outputs": [
    {
     "name": "stdout",
     "output_type": "stream",
     "text": [
      "True\n"
     ]
    }
   ],
   "source": [
    "import re\n",
    "\n",
    "# 예를 들어 주소창의 정보 반환\n",
    "\n",
    "def DNS_name(url):\n",
    "    # compile 메서드는 \"패턴 객체\"를 반환\n",
    "    pat = re.compile('^(?:http[s]*:\\/\\/)(?:[a-zA-Z]|[0-9]|[$-_@.&+#]|[!*\\(\\),]|(?:%[0-9a-fA-F][0-9a-fA-F]))+')\n",
    "    print(pat.match(url) != None)\n",
    "    # return pat\n",
    "\n",
    "\n",
    "# url='https://docs.python.org/ko/3/library/re.html?highlight=re%20compile#re.compile'\n",
    "url = 'https://docs.python.org/ko/3.8/library/urllib.parse.html'\n",
    "DNS_name(url)"
   ]
  }
 ],
 "metadata": {
  "kernelspec": {
   "display_name": "Python 3",
   "language": "python",
   "name": "python3"
  },
  "language_info": {
   "codemirror_mode": {
    "name": "ipython",
    "version": 3
   },
   "file_extension": ".py",
   "mimetype": "text/x-python",
   "name": "python",
   "nbconvert_exporter": "python",
   "pygments_lexer": "ipython3",
   "version": "3.11.1 (tags/v3.11.1:a7a450f, Dec  6 2022, 19:58:39) [MSC v.1934 64 bit (AMD64)]"
  },
  "orig_nbformat": 4,
  "vscode": {
   "interpreter": {
    "hash": "ebfc0a8d552866b0d59eba665220a57de3bc06f3ac643b8bef38dd8f66781fdd"
   }
  }
 },
 "nbformat": 4,
 "nbformat_minor": 2
}
