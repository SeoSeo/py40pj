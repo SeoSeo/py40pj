{
 "cells": [
  {
   "attachments": {},
   "cell_type": "markdown",
   "metadata": {},
   "source": [
    "# Project 1 - 숫자 맞추기 게임"
   ]
  },
  {
   "attachments": {},
   "cell_type": "markdown",
   "metadata": {},
   "source": [
    "## 프로젝트 개요 & 설명\n",
    "교재 p.81 ~\n",
    "<br>\n",
    "\n",
    "- 임의의 숫자 코드 생성\n",
    "- 숫자 맞추는 게임 코드로 만들기\n",
    "- 트러블슈팅\n",
    "- 테스트"
   ]
  },
  {
   "attachments": {},
   "cell_type": "markdown",
   "metadata": {},
   "source": [
    "### 참조 / 기능\n",
    "\n",
    "**`import random` 이라는 내뷰 모듈을 이용.**\n",
    "<br>\n",
    "- `random.random()` : 0.0부터 0.999999 사이의 실수float number 반환\n",
    "- `random.uniform(a,b)` : a와 b 사이의 실수값 반환\n",
    "- `random.randint(a,b)` : a와 b 사이의 정수int값을 반환 -> a,b 포함\n",
    "- `random.randrange(a,b)` : a와 b 사이의 정수값 반환\n",
    "- `random.randrange(a)` : 0부터 a까지의 정수값 반환(인자가 하나인 경우)\n",
    "- `random.choice(type)` : type에는 문자열, list, tuple, range의 값을 입력받을 수 있고 무작위로 하나의 원소를 뽑음."
   ]
  },
  {
   "attachments": {},
   "cell_type": "markdown",
   "metadata": {},
   "source": [
    "##### 실습코드"
   ]
  },
  {
   "cell_type": "code",
   "execution_count": 24,
   "metadata": {},
   "outputs": [],
   "source": [
    "import random\n",
    "def pj01():\n",
    "    min = 1\n",
    "    max = 100\n",
    "    round = 10\n",
    "    count = 0\n",
    "    ran = random.randint(min,max)\n",
    "    result = '실패'\n",
    "    print(f'\\nUP&DOWN 게임 시작!\\n\\n게임의 규칙은 간단합니다.\\n{min}부터 {max} 사이의 숫자 중에서 하나의 숫자를 골라 입력해주세요.\\n숫자를 맞추면 승리!\\n맞추지 못하면 정답인 숫자보다 적으면 UP을 외칠 것이고 높다면 DOWN을 외칩니다.\\n이 외침에 근거하여 정답을 {round}번 안에 맞춰주세요!\\n기회 안에 맞추지 못하면 꽝! 실패입니다.\\n\\n')\n",
    "    while count < round:\n",
    "        try:\n",
    "            print(f'현재 남아있는 기회 : {round-count}\\n')\n",
    "            sel = input(f'{min}부터 {max} 사이의 정수 숫자 하나를 입력해주세요.\\n띄어쓰기는 인정되지 않으며 숫자가 입력되지 않은 경우 다시 입력하도록 창이 유도됩니다.\\n')\n",
    "            if sel.isdigit():\n",
    "                sel = int(sel)\n",
    "                if isinstance(sel, int):\n",
    "                    if min <= sel <= max:\n",
    "                        if sel > ran:\n",
    "                            print(f'입력숫자 : {sel} - DOWN!\\n')\n",
    "                            count += 1\n",
    "                        elif sel < ran:\n",
    "                                print(f'입력숫자 : {sel} - UP!\\n')\n",
    "                                count += 1\n",
    "                        elif sel == ran:\n",
    "                                # print(f'정답! 입력하신 {sel}이 정답 {ran}과 동일합니다!\\n{count}회 만에 성공하셨어요! 대단해요!!!\\n')\n",
    "                                result = '성공'\n",
    "                                break\n",
    "                    else:\n",
    "                        print(f'입력하신 숫자 {sel}는 {min}과 {max}의 범위에 포함되지 않아요! 다시 입력해주세요!\\n')\n",
    "            else:\n",
    "                print('숫자만 입력해주세요!\\n')\n",
    "            # sel = sel if isinstance(sel, int) else int(sel) if sel.isdigit() else\n",
    "        except:\n",
    "            print(f'{sel}은 잘못된 입력입니다.\\n다시 입력해 주세요!\\n')\n",
    "    print(f'결과 : {result}!\\n\\n정답은 {ran}이었습니다!\\n\\n주어진 기회 {round} 중에서 모두 {count}번 이용하셨어요.\\n다음 기회를 이용해주세요!\\n') if result != '성공' else print(f'결과 : {result}!\\n\\n정답은 {ran} 입력하신 숫자도 {sel}!\\n주어진 기회 {round} 중에서 {count}만에 성공하셨어요!\\n축하해요!!')\n"
   ]
  },
  {
   "cell_type": "code",
   "execution_count": 25,
   "metadata": {},
   "outputs": [
    {
     "name": "stdout",
     "output_type": "stream",
     "text": [
      "\n",
      "UP&DOWN 게임 시작!\n",
      "\n",
      "게임의 규칙은 간단합니다.\n",
      "1부터 100 사이의 숫자 중에서 하나의 숫자를 골라 입력해주세요.\n",
      "숫자를 맞추면 승리!\n",
      "맞추지 못하면 정답인 숫자보다 적으면 UP을 외칠 것이고 높다면 DOWN을 외칩니다.\n",
      "이 외침에 근거하여 정답을 10번 안에 맞춰주세요!\n",
      "기회 안에 맞추지 못하면 꽝! 실패입니다.\n",
      "\n",
      "\n",
      "현재 남아있는 기회 : 10\n",
      "\n",
      "숫자만 입력해주세요!\n",
      "\n",
      "현재 남아있는 기회 : 10\n",
      "\n",
      "입력하신 숫자 10000는 1과 100의 범위에 포함되지 않아요! 다시 입력해주세요!\n",
      "\n",
      "현재 남아있는 기회 : 10\n",
      "\n",
      "입력하신 숫자 101는 1과 100의 범위에 포함되지 않아요! 다시 입력해주세요!\n",
      "\n",
      "현재 남아있는 기회 : 10\n",
      "\n",
      "입력숫자 : 100 - DOWN!\n",
      "\n",
      "현재 남아있는 기회 : 9\n",
      "\n",
      "입력숫자 : 50 - DOWN!\n",
      "\n",
      "현재 남아있는 기회 : 8\n",
      "\n",
      "입력숫자 : 30 - DOWN!\n",
      "\n",
      "현재 남아있는 기회 : 7\n",
      "\n",
      "입력숫자 : 10 - DOWN!\n",
      "\n",
      "현재 남아있는 기회 : 6\n",
      "\n",
      "입력숫자 : 9 - DOWN!\n",
      "\n",
      "현재 남아있는 기회 : 5\n",
      "\n",
      "결과 : 성공!\n",
      "\n",
      "정답은 6 입력하신 숫자도 6!\n",
      "주어진 기회 10 중에서 5만에 성공하셨어요!\n",
      "축하해요!!\n"
     ]
    }
   ],
   "source": [
    "# 실행\n",
    "pj01()"
   ]
  }
 ],
 "metadata": {
  "kernelspec": {
   "display_name": "Python 3",
   "language": "python",
   "name": "python3"
  },
  "language_info": {
   "codemirror_mode": {
    "name": "ipython",
    "version": 3
   },
   "file_extension": ".py",
   "mimetype": "text/x-python",
   "name": "python",
   "nbconvert_exporter": "python",
   "pygments_lexer": "ipython3",
   "version": "3.11.1 (tags/v3.11.1:a7a450f, Dec  6 2022, 19:58:39) [MSC v.1934 64 bit (AMD64)]"
  },
  "orig_nbformat": 4,
  "vscode": {
   "interpreter": {
    "hash": "ebfc0a8d552866b0d59eba665220a57de3bc06f3ac643b8bef38dd8f66781fdd"
   }
  }
 },
 "nbformat": 4,
 "nbformat_minor": 2
}
